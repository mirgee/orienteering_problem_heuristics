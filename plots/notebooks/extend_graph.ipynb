{
 "cells": [
  {
   "cell_type": "code",
   "execution_count": 5,
   "metadata": {
    "collapsed": false
   },
   "outputs": [],
   "source": [
    "import pandas as pd\n",
    "import networkx as nx\n",
    "import scipy as sp\n",
    "import numpy as np\n",
    "from scipy import sparse\n",
    "\n",
    "df = pd.read_csv(\"./data/edges.op\", sep=\" \")\n",
    "orig_graph = nx.from_pandas_dataframe(df, source='node_from', target='node_to', edge_attr=['distance', 'animal_density', 'grid_cell_x', 'grid_cell_y'])\n",
    "# orig_graph = nx.subgraph(orig_graph, nx.node_connected_component(orig_graph, 0))\n",
    "new_graph, dist, scores, adj = create_extended_graph(orig_graph)\n",
    "# dist = nx.floyd_warshall_numpy(new_graph, weight='distance')"
   ]
  },
  {
   "cell_type": "code",
   "execution_count": 20,
   "metadata": {},
   "outputs": [],
   "source": [
    "with open('./data/dist_ext.gop', 'w') as f:\n",
    "    # f.write(str(len(new_graph.nodes())) + \" 1 0 0\\n\")\n",
    "    f.write(str(len(dist)) + \" 1 0 0\\n\")\n",
    "with open('./data/dist_ext.gop', 'ab') as f:\n",
    "    for line in np.matrix(dist):\n",
    "        np.savetxt(f, line, fmt='%.2f')\n",
    "with open('./data/dist_ext.gop', 'a') as f:\n",
    "    # for node in new_graph.nodes_iter():\n",
    "    #     f.write(str(nx.get_node_attributes(new_graph, 'animal_density')[node])+\"\\n\")\n",
    "    # for score in scores:\n",
    "\t #    f.write(str(score) + \"\\n\")\n",
    "\tfor i in range(len(dist)):\n",
    "\t\ttry:\n",
    "\t\t\tf.write(str(nx.get_node_attributes(new_graph, 'animal_density')[i])+\"\\n\")\n",
    "\t\texcept:\n",
    "\t\t\tf.write(str(0)+\"\\n\")"
   ]
  },
  {
   "cell_type": "code",
   "execution_count": 26,
   "metadata": {},
   "outputs": [
    {
     "name": "stdout",
     "output_type": "stream",
     "text": [
      "8457.48900607\n"
     ]
    }
   ],
   "source": [
    "# print(nx.shortest_path_length(orig_graph, 0, 15, weight=\"distance\"))\n",
    "# print(nx.shortest_path_length(new_graph, 0, 15, weight=\"distance\"))\n",
    "# print(dist[0,15])\n",
    "# print(len(new_graph.edges()))\n",
    "# print(len(new_graph.nodes()))\n",
    "# print(nx.adjacency_matrix(new_graph, weight='distance')[0, 553])\n",
    "# print(nx.adjacency_matrix(orig_graph, weight='distance')[0, 15])\n",
    "# print(adj[0, 1])\n",
    "# print(nx.neighbors(orig_graph, 15))\n",
    "# print(nx.neighbors(new_graph, 554))\n",
    "# print(orig_graph[65][5])\n",
    "# print(dist[5,65])\n",
    "# print(dist[5,554])\n",
    "# print(nx.get_node_attributes(new_graph, 'animal_density')[554])\n",
    "print(orig_graph[19][15]['animal_density'])"
   ]
  },
  {
   "cell_type": "code",
   "execution_count": 2,
   "metadata": {
    "collapsed": true
   },
   "outputs": [],
   "source": [
    "def create_extended_graph(orig_graph):\n",
    "\tnew_graph = nx.Graph()\n",
    "\tscores = []\n",
    "\ti = 553\n",
    "\t# i = len(orig_graph.nodes())\n",
    "\tadj = np.zeros((3059, 3059))\n",
    "\tadj[:] = np.inf\n",
    "\tfor edge in orig_graph.edges():\n",
    "\t\tnew_graph.add_node(edge[0], animal_density=0, grid_cell_x=orig_graph[edge[0]][edge[1]]['grid_cell_x'],\n",
    "\t\t                   grid_cell_y=orig_graph[edge[0]][edge[1]]['grid_cell_y'])\n",
    "\t\tnew_graph.add_node(edge[1], animal_density=0, grid_cell_x=orig_graph[edge[0]][edge[1]]['grid_cell_x'],\n",
    "\t\t                   grid_cell_y=orig_graph[edge[0]][edge[1]]['grid_cell_y'])\n",
    "\t\tnew_graph.add_node(i, animal_density=orig_graph[edge[0]][edge[1]]['animal_density'],\n",
    "\t\t                   grid_cell_x=orig_graph[edge[0]][edge[1]]['grid_cell_x'],\n",
    "\t\t                   grid_cell_y=orig_graph[edge[0]][edge[1]]['grid_cell_y'])\n",
    "\t\tnew_graph.add_edge(edge[0], i, distance=float(orig_graph[edge[0]][edge[1]]['distance']) / 2,\n",
    "\t\t                   grid_cell_x=orig_graph[edge[0]][edge[1]]['grid_cell_x'],\n",
    "\t\t                   grid_cell_y=orig_graph[edge[0]][edge[1]]['grid_cell_y'])\n",
    "\t\tnew_graph.add_edge(i, edge[1], distance=float(orig_graph[edge[0]][edge[1]]['distance']) / 2,\n",
    "\t\t                   grid_cell_x=orig_graph[edge[0]][edge[1]]['grid_cell_x'],\n",
    "\t\t                   grid_cell_y=orig_graph[edge[0]][edge[1]]['grid_cell_y'])\n",
    "\t\tadj[int(edge[0])][i] = float(orig_graph[edge[0]][edge[1]]['distance']) / 2\n",
    "\t\tadj[i][int(edge[1])] = float(orig_graph[edge[0]][edge[1]]['distance']) / 2\n",
    "\t\tadj[i][int(edge[0])] = adj[int(edge[0])][i]\n",
    "\t\tadj[int(edge[1])][i] = adj[i][int(edge[1])]\n",
    "\t\ti += 1\n",
    "\tfor node_num, node_data in new_graph.nodes(data=True):\n",
    "\t\t# print(node_num)\n",
    "\t\tscores.append(node_data['animal_density'])\n",
    "\n",
    "\t# dist = nx.floyd_warshall_numpy(new_graph, weight='distance').tolist()\n",
    "\t# adj = nx.adjacency_matrix(new_graph, weight='distance')\n",
    "\tdist = sp.sparse.csgraph.shortest_path(adj, directed=False)\n",
    "\treturn new_graph, dist, scores, adj"
   ]
  },
  {
   "cell_type": "code",
   "execution_count": 3,
   "metadata": {},
   "outputs": [],
   "source": [
    "def get_adj_matrix(df):\n",
    "\tadj = np.zeros((553, 553))\n",
    "\n",
    "\tfor index, row in df.iterrows():\n",
    "\t\tadj[int(row['node_from'])][int(row['node_to'])] = row['distance']\n",
    "\t\tadj[int(row['node_to'])][int(row['node_from'])] = row['distance']\n",
    "\treturn adj"
   ]
  },
  {
   "cell_type": "code",
   "execution_count": 8,
   "metadata": {},
   "outputs": [
    {
     "data": {
      "text/plain": [
       "[(100000, {'animal_density': 10, 'grid_cell_x': 0, 'grid_cell_y': 0}),\n (100001, {'animal_density': 10, 'grid_cell_x': 0, 'grid_cell_y': 0}),\n (100002, {'animal_density': 10, 'grid_cell_x': 0, 'grid_cell_y': 0}),\n (4, {'animal_density': 0, 'grid_cell_x': 0, 'grid_cell_y': 0}),\n (5, {'animal_density': 0, 'grid_cell_x': 0, 'grid_cell_y': 0}),\n (6, {'animal_density': 0, 'grid_cell_x': 0, 'grid_cell_y': 0}),\n (7, {'animal_density': 0, 'grid_cell_x': 0, 'grid_cell_y': 0})]"
      ]
     },
     "execution_count": 8,
     "metadata": {},
     "output_type": "execute_result"
    }
   ],
   "source": [
    "import networkx as nx\n",
    "\n",
    "gr = nx.Graph()\n",
    "# gr.add_node(5, animal_density=10, grid_cell_x=0, grid_cell_y=0)\n",
    "# gr.add_node(5, animal_density=12, grid_cell_x=0, grid_cell_y=0)\n",
    "gr.add_edge(4, 5, animal_density=10, distance=1, grid_cell_x=0, grid_cell_y=0)\n",
    "gr.add_edge(5, 6, animal_density=10, distance=1, grid_cell_x=0, grid_cell_y=0)\n",
    "gr.add_edge(6, 7, animal_density=10, distance=1, grid_cell_x=0, grid_cell_y=0)\n",
    "new_graph, dist, score = create_extended_graph(gr)\n",
    "new_graph.nodes(data=True)"
   ]
  },
  {
   "cell_type": "code",
   "execution_count": 9,
   "metadata": {},
   "outputs": [],
   "source": [
    "import numpy as np\n",
    "\n",
    "with open('./data/dist_ext_small.gop', 'w') as f:\n",
    "    f.write(str(len(new_graph.nodes())) + \" 1 0 0\\n\")\n",
    "with open('./data/dist_ext_small.gop', 'ab') as f:\n",
    "    for line in np.matrix(dist):\n",
    "        np.savetxt(f, line, fmt='%.2f')\n",
    "with open('./data/dist_ext_small.gop', 'a') as f:\n",
    "    for node in new_graph.nodes_iter():\n",
    "        f.write(str(nx.get_node_attributes(new_graph, 'animal_density')[node])+\"\\n\")"
   ]
  },
  {
   "cell_type": "code",
   "execution_count": null,
   "metadata": {},
   "outputs": [],
   "source": [
    ""
   ]
  }
 ],
 "metadata": {
  "kernelspec": {
   "display_name": "Python 3",
   "language": "python",
   "name": "python3"
  },
  "language_info": {
   "codemirror_mode": {
    "name": "ipython",
    "version": 3.0
   },
   "file_extension": ".py",
   "mimetype": "text/x-python",
   "name": "python",
   "nbconvert_exporter": "python",
   "pygments_lexer": "ipython3",
   "version": "3.6.0"
  }
 },
 "nbformat": 4,
 "nbformat_minor": 0
}